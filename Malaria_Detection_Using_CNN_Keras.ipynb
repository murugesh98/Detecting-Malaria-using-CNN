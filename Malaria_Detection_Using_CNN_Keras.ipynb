{
 "cells": [
  {
   "cell_type": "code",
   "execution_count": 1,
   "metadata": {},
   "outputs": [
    {
     "name": "stderr",
     "output_type": "stream",
     "text": [
      "Using TensorFlow backend.\n"
     ]
    }
   ],
   "source": [
    "#Importing Packages\n",
    "import numpy as np\n",
    "from keras.models import Sequential\n",
    "from keras.layers import Convolution2D\n",
    "from keras.layers import MaxPooling2D\n",
    "from keras.layers import Flatten\n",
    "from keras.layers import Dense\n",
    "from keras.preprocessing import image\n",
    "from keras.preprocessing.image import ImageDataGenerator\n",
    "import warnings\n",
    "warnings.filterwarnings('ignore')\n",
    "import matplotlib.pyplot as plt\n",
    "%matplotlib inline"
   ]
  },
  {
   "cell_type": "code",
   "execution_count": 2,
   "metadata": {},
   "outputs": [],
   "source": [
    "#Initializing th Classifier\n",
    "classifier = Sequential()"
   ]
  },
  {
   "cell_type": "code",
   "execution_count": 3,
   "metadata": {},
   "outputs": [
    {
     "name": "stdout",
     "output_type": "stream",
     "text": [
      "WARNING:tensorflow:From D:\\Anaconda\\lib\\site-packages\\tensorflow\\python\\framework\\op_def_library.py:263: colocate_with (from tensorflow.python.framework.ops) is deprecated and will be removed in a future version.\n",
      "Instructions for updating:\n",
      "Colocations handled automatically by placer.\n"
     ]
    }
   ],
   "source": [
    "#Defining Layers\n",
    "classifier.add(Convolution2D(32,3,3, \n",
    "                             input_shape = (64,64,3), \n",
    "                             activation = 'relu'))\n",
    "\n",
    "classifier.add(MaxPooling2D(pool_size = (2,2)))\n",
    "\n",
    "classifier.add(Convolution2D(32,3,3, \n",
    "                             activation = 'relu'))\n",
    "\n",
    "classifier.add(MaxPooling2D(pool_size = (2,2)))\n",
    "\n",
    "classifier.add(Flatten())\n",
    "\n",
    "classifier.add(Dense(output_dim = 128, activation='relu'))\n",
    "classifier.add(Dense(output_dim = 1, activation='sigmoid'))"
   ]
  },
  {
   "cell_type": "code",
   "execution_count": 4,
   "metadata": {},
   "outputs": [],
   "source": [
    "#Compiling NN\n",
    "classifier.compile(optimizer = 'adam', loss='binary_crossentropy', metrics=['accuracy'])"
   ]
  },
  {
   "cell_type": "code",
   "execution_count": 5,
   "metadata": {},
   "outputs": [],
   "source": [
    "train_datagen = ImageDataGenerator(rescale = 1./255, \n",
    "                                   shear_range = 0.2, \n",
    "                                   zoom_range = 0.2, \n",
    "                                   horizontal_flip = True)\n",
    "test_datagen = ImageDataGenerator(rescale = 1./255)"
   ]
  },
  {
   "cell_type": "code",
   "execution_count": 6,
   "metadata": {},
   "outputs": [
    {
     "name": "stdout",
     "output_type": "stream",
     "text": [
      "Found 22046 images belonging to 2 classes.\n",
      "Found 5512 images belonging to 2 classes.\n"
     ]
    }
   ],
   "source": [
    "#Loading Data\n",
    "train_set = train_datagen.flow_from_directory('Data/train', \n",
    "                                              target_size = (64, 64), \n",
    "                                              batch_size = 32, \n",
    "                                              class_mode = 'binary')\n",
    "\n",
    "test_set = test_datagen.flow_from_directory('Data/valid', \n",
    "                                            target_size = (64, 64), \n",
    "                                            batch_size = 32, \n",
    "                                            class_mode = 'binary')"
   ]
  },
  {
   "cell_type": "code",
   "execution_count": 7,
   "metadata": {
    "scrolled": true
   },
   "outputs": [
    {
     "name": "stdout",
     "output_type": "stream",
     "text": [
      "WARNING:tensorflow:From D:\\Anaconda\\lib\\site-packages\\tensorflow\\python\\ops\\math_ops.py:3066: to_int32 (from tensorflow.python.ops.math_ops) is deprecated and will be removed in a future version.\n",
      "Instructions for updating:\n",
      "Use tf.cast instead.\n",
      "Epoch 1/25\n",
      "250/250 [==============================] - 202s 809ms/step - loss: 0.6893 - acc: 0.5397 - val_loss: 0.7103 - val_acc: 0.5394\n",
      "Epoch 2/25\n",
      "250/250 [==============================] - 197s 787ms/step - loss: 0.6811 - acc: 0.5603 - val_loss: 0.6611 - val_acc: 0.5997\n",
      "Epoch 3/25\n",
      "250/250 [==============================] - 197s 787ms/step - loss: 0.6633 - acc: 0.6049 - val_loss: 0.6192 - val_acc: 0.6605\n",
      "Epoch 4/25\n",
      "250/250 [==============================] - 197s 787ms/step - loss: 0.6522 - acc: 0.6165 - val_loss: 0.6095 - val_acc: 0.6790\n",
      "Epoch 5/25\n",
      "250/250 [==============================] - 197s 789ms/step - loss: 0.6192 - acc: 0.6555 - val_loss: 0.5347 - val_acc: 0.7269\n",
      "Epoch 6/25\n",
      "250/250 [==============================] - 197s 789ms/step - loss: 0.6127 - acc: 0.6642 - val_loss: 0.5191 - val_acc: 0.7360\n",
      "Epoch 7/25\n",
      "250/250 [==============================] - 197s 788ms/step - loss: 0.5106 - acc: 0.7512 - val_loss: 0.4182 - val_acc: 0.8049\n",
      "Epoch 8/25\n",
      "250/250 [==============================] - 197s 789ms/step - loss: 0.4293 - acc: 0.8053 - val_loss: 0.3003 - val_acc: 0.8696\n",
      "Epoch 9/25\n",
      "250/250 [==============================] - 197s 787ms/step - loss: 0.2775 - acc: 0.8900 - val_loss: 0.2051 - val_acc: 0.9220\n",
      "Epoch 10/25\n",
      "250/250 [==============================] - 197s 787ms/step - loss: 0.2348 - acc: 0.9090 - val_loss: 0.1963 - val_acc: 0.9279\n",
      "Epoch 11/25\n",
      "250/250 [==============================] - 197s 789ms/step - loss: 0.2072 - acc: 0.9251 - val_loss: 0.1578 - val_acc: 0.9458\n",
      "Epoch 12/25\n",
      "250/250 [==============================] - 196s 786ms/step - loss: 0.2046 - acc: 0.9231 - val_loss: 0.1604 - val_acc: 0.9471\n",
      "Epoch 13/25\n",
      "250/250 [==============================] - 196s 786ms/step - loss: 0.1948 - acc: 0.9264 - val_loss: 0.1564 - val_acc: 0.9463\n",
      "Epoch 14/25\n",
      "250/250 [==============================] - 196s 785ms/step - loss: 0.1880 - acc: 0.9335 - val_loss: 0.1467 - val_acc: 0.9468\n",
      "Epoch 15/25\n",
      "250/250 [==============================] - 196s 785ms/step - loss: 0.1913 - acc: 0.9286 - val_loss: 0.1628 - val_acc: 0.9467\n",
      "Epoch 16/25\n",
      "250/250 [==============================] - 196s 785ms/step - loss: 0.1752 - acc: 0.9361 - val_loss: 0.1474 - val_acc: 0.9497\n",
      "Epoch 17/25\n",
      "250/250 [==============================] - 197s 787ms/step - loss: 0.1690 - acc: 0.9402 - val_loss: 0.1554 - val_acc: 0.9434\n",
      "Epoch 18/25\n",
      "250/250 [==============================] - 200s 800ms/step - loss: 0.1761 - acc: 0.9341 - val_loss: 0.1543 - val_acc: 0.9446\n",
      "Epoch 19/25\n",
      "250/250 [==============================] - 197s 786ms/step - loss: 0.1833 - acc: 0.9324 - val_loss: 0.1352 - val_acc: 0.9520\n",
      "Epoch 20/25\n",
      "250/250 [==============================] - 196s 786ms/step - loss: 0.1786 - acc: 0.9342 - val_loss: 0.1460 - val_acc: 0.9484\n",
      "Epoch 21/25\n",
      "250/250 [==============================] - 197s 786ms/step - loss: 0.1697 - acc: 0.9376 - val_loss: 0.1481 - val_acc: 0.9475\n",
      "Epoch 22/25\n",
      "250/250 [==============================] - 196s 785ms/step - loss: 0.1755 - acc: 0.9389 - val_loss: 0.1470 - val_acc: 0.9461\n",
      "Epoch 23/25\n",
      "250/250 [==============================] - 197s 787ms/step - loss: 0.1613 - acc: 0.9425 - val_loss: 0.1479 - val_acc: 0.9466\n",
      "Epoch 24/25\n",
      "250/250 [==============================] - 197s 788ms/step - loss: 0.1810 - acc: 0.9325 - val_loss: 0.1424 - val_acc: 0.9500\n",
      "Epoch 25/25\n",
      "250/250 [==============================] - 196s 786ms/step - loss: 0.1584 - acc: 0.9417 - val_loss: 0.1494 - val_acc: 0.9450\n"
     ]
    },
    {
     "data": {
      "text/plain": [
       "<keras.callbacks.History at 0xe87ce80>"
      ]
     },
     "execution_count": 7,
     "metadata": {},
     "output_type": "execute_result"
    }
   ],
   "source": [
    "classifier.fit_generator(train_set, \n",
    "                         samples_per_epoch=8000, \n",
    "                         nb_epoch=25, \n",
    "                         validation_data=test_set, \n",
    "                         nb_val_samples=2000)"
   ]
  },
  {
   "cell_type": "code",
   "execution_count": 14,
   "metadata": {},
   "outputs": [
    {
     "name": "stdout",
     "output_type": "stream",
     "text": [
      "Infected\n"
     ]
    },
    {
     "data": {
      "text/plain": [
       "<matplotlib.image.AxesImage at 0xf8eb828>"
      ]
     },
     "execution_count": 14,
     "metadata": {},
     "output_type": "execute_result"
    },
    {
     "data": {
      "image/png": "[encoded data removed]",
      "text/plain": [
       "<Figure size 432x288 with 1 Axes>"
      ]
     },
     "metadata": {
      "needs_background": "light"
     },
     "output_type": "display_data"
    }
   ],
   "source": [
    "test_image1 = image.load_img('Data/random5.png', target_size = (64,64))\n",
    "test_image = image.img_to_array(test_image1)\n",
    "test_image = np.expand_dims(test_image, axis=0)\n",
    "result = classifier.predict(test_image)\n",
    "train_set.class_indices\n",
    "\n",
    "if result[0][0]>=0.5:\n",
    "    prediction='Not Infected'\n",
    "else:\n",
    "    prediction='Infected'\n",
    "    \n",
    "print(prediction)\n",
    "plt.imshow(test_image1)"
   ]
  },
  {
   "cell_type": "code",
   "execution_count": null,
   "metadata": {},
   "outputs": [],
   "source": []
  }
 ],
 "metadata": {
  "kernelspec": {
   "display_name": "Python 3",
   "language": "python",
   "name": "python3"
  },
  "language_info": {
   "codemirror_mode": {
    "name": "ipython",
    "version": 3
   },
   "file_extension": ".py",
   "mimetype": "text/x-python",
   "name": "python",
   "nbconvert_exporter": "python",
   "pygments_lexer": "ipython3",
   "version": "3.7.3"
  }
 },
 "nbformat": 4,
 "nbformat_minor": 2
}
